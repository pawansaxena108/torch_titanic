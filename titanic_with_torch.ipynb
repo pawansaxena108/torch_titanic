{
 "cells": [
  {
   "cell_type": "markdown",
   "metadata": {},
   "source": [
    "## Library import\n"
   ]
  },
  {
   "cell_type": "code",
   "execution_count": 23,
   "metadata": {},
   "outputs": [],
   "source": [
    "from torch import nn as nn\n",
    "import pandas as pd\n",
    "import numpy as np\n",
    "import matplotlib.pyplot as plt\n",
    "from sklearn.preprocessing import StandardScaler,OrdinalEncoder,OneHotEncoder\n",
    "from sklearn.impute import SimpleImputer\n",
    "import torch\n",
    "from fastai.learner import Learner\n",
    "from fastai.metrics import accuracy\n",
    "import warnings\n"
   ]
  },
  {
   "cell_type": "code",
   "execution_count": 24,
   "metadata": {},
   "outputs": [],
   "source": [
    "# Ignore all warnings\n",
    "warnings.filterwarnings('ignore')\n"
   ]
  },
  {
   "cell_type": "markdown",
   "metadata": {},
   "source": [
    "## Feature Engineering"
   ]
  },
  {
   "cell_type": "markdown",
   "metadata": {},
   "source": [
    "### train and validation data"
   ]
  },
  {
   "cell_type": "code",
   "execution_count": 26,
   "metadata": {},
   "outputs": [
    {
     "name": "stdout",
     "output_type": "stream",
     "text": [
      "Training samples: 712, Test samples: 179\n"
     ]
    }
   ],
   "source": [
    "import pandas as pd\n",
    "from sklearn.model_selection import train_test_split\n",
    "from sklearn.preprocessing import StandardScaler, OneHotEncoder\n",
    "from sklearn.impute import SimpleImputer\n",
    "from sklearn.compose import ColumnTransformer\n",
    "from sklearn.pipeline import Pipeline\n",
    "\n",
    "# Load Titanic dataset (replace with your path or URL)\n",
    "df = pd.read_csv('Titanic-Dataset.csv')\n",
    "\n",
    "# 1. Select features and target\n",
    "features = ['Pclass', 'Sex', 'Age', 'SibSp', 'Parch', 'Fare', 'Embarked']\n",
    "target = 'Survived'\n",
    "\n",
    "X = df[features]\n",
    "y = df[target]\n",
    "\n",
    "# 2. Define preprocessing for numeric features\n",
    "numeric_features = ['SibSp', 'Parch', 'Fare']\n",
    "numeric_transformer = Pipeline(steps=[\n",
    "    ('imputer', SimpleImputer(strategy='mean')),  # Fill missing with median\n",
    "    ('scaler', StandardScaler())])                   # Scale to zero mean, unit variance\n",
    "\n",
    "# 3. Define preprocessing for categorical features\n",
    "categorical_features = ['Pclass', 'Sex', 'Embarked']\n",
    "# Bin 'Age' into categories before categorical_transformer\n",
    "# We'll add a new feature 'AgeBin' to X and treat it as categorical\n",
    "\n",
    "# Bin Age into 5 bins (you can adjust bins as needed)\n",
    "X['AgeBin'] = pd.cut(X['Age'], bins=[0, 12, 18, 35, 60, 100], labels=['Child', 'Teen', 'YoungAdult', 'Adult', 'Senior'])\n",
    "\n",
    "X['IsFirstClass'] = (X['Pclass'] == 1).astype(int)\n",
    "\n",
    "# 2. Create a new feature: IsThirdClass (1 if Pclass==3 else 0)\n",
    "X['IsThirdClass'] = (X['Pclass'] == 3).astype(int)\n",
    "\n",
    "# 3. Create an interaction feature: FarePerClass (Fare divided by Pclass)\n",
    "X['FarePerClass'] = X['Fare'] / X['Pclass']\n",
    "\n",
    "# 4. (Optional) One-hot encode Pclass if not already done\n",
    "# This is often handled by the categorical transformer, but you can do it manually if needed:\n",
    "# X = pd.get_dummies(X, columns=['Pclass'], prefix='Pclass')\n",
    "\n",
    "# Remember to add any new features to your feature lists for preprocessing:\n",
    "numeric_features += ['FarePerClass']\n",
    "\n",
    "\n",
    "# Add 'AgeBin' to categorical features\n",
    "categorical_features = [ 'Sex', 'Embarked', 'AgeBin']\n",
    "categorical_features += ['IsFirstClass', 'IsThirdClass']\n",
    "\n",
    "categorical_transformer = Pipeline(steps=[\n",
    "    ('imputer', SimpleImputer(strategy='most_frequent')),  # Fill missing with mode\n",
    "    ('onehot', OneHotEncoder(handle_unknown='ignore'))])   # One-hot encode categories\n",
    "# 4. Combine preprocessing steps\n",
    "preprocessor = ColumnTransformer(\n",
    "    transformers=[\n",
    "        ('num', numeric_transformer, numeric_features),\n",
    "        ('cat', categorical_transformer, categorical_features)])\n",
    "\n",
    "# 5. Apply preprocessing to features\n",
    "X_processed = preprocessor.fit_transform(X)\n",
    "\n",
    "# 6. Optional: Split into train/test sets\n",
    "x_train, x_test, y_train, y_test = train_test_split(\n",
    "    X_processed, y, test_size=0.2, random_state=42)\n",
    "\n",
    "print(f\"Training samples: {x_train.shape[0]}, Test samples: {x_test.shape[0]}\")\n"
   ]
  },
  {
   "cell_type": "markdown",
   "metadata": {},
   "source": [
    "### Preparing Dataset"
   ]
  },
  {
   "cell_type": "code",
   "execution_count": 53,
   "metadata": {},
   "outputs": [],
   "source": [
    "class TitanicDataset(Dataset):\n",
    "    def __init__(self,x,y) -> None:\n",
    "        super().__init__()\n",
    "        self.x= torch.from_numpy(x).float()\n",
    "        self.y = torch.from_numpy(y.values).float().unsqueeze(1)\n",
    "\n",
    "    def __len__(self):\n",
    "        return len(self.x)\n",
    "\n",
    "    def __getitem__(self, index):\n",
    "        return self.x[index], self.y[index]  # ✅ tuple, not dict\n",
    " \n",
    "from torch.utils.data import random_split\n",
    "\n",
    "train_ds = TitanicDataset(x_train, y_train)\n",
    "valid_ds = TitanicDataset(x_test, y_test)\n",
    "\n",
    "\n",
    "train_dl = DataLoader(train_ds, batch_size=10)\n",
    "valid_dl = DataLoader(valid_ds, batch_size=10)\n",
    "\n",
    "from fastai.data.core import DataLoaders\n",
    "dls = DataLoaders(train_dl, valid_dl)\n",
    "\n"
   ]
  },
  {
   "cell_type": "markdown",
   "metadata": {},
   "source": [
    "## Model"
   ]
  },
  {
   "cell_type": "markdown",
   "metadata": {},
   "source": [
    "### Model architecture"
   ]
  },
  {
   "cell_type": "code",
   "execution_count": 48,
   "metadata": {},
   "outputs": [],
   "source": [
    "import torch.nn as nn\n",
    "\n",
    "class TitanicModel(nn.Module):\n",
    "   def __init__(self,feature_len):\n",
    "        super().__init__()\n",
    "        self.layers= nn.Sequential(\n",
    "        nn.Linear(feature_len, 64),\n",
    "        nn.BatchNorm1d(64),\n",
    "        nn.ReLU(),\n",
    "        nn.Dropout(0.3),\n",
    "\n",
    "        nn.Linear(64, 32),\n",
    "        nn.BatchNorm1d(32),\n",
    "        nn.ReLU(),\n",
    "        nn.Dropout(0.2),\n",
    "\n",
    "        nn.Linear(32, 16),\n",
    "        nn.ReLU(),\n",
    "\n",
    "        nn.Linear(16, 1),\n",
    "    \n",
    "        )\n",
    "   def forward(self,x,y=None):\n",
    "       return self.layers(x)  \n",
    " \n",
    "\n",
    "model = TitanicModel(18)"
   ]
  },
  {
   "cell_type": "markdown",
   "metadata": {},
   "source": [
    "### Train"
   ]
  },
  {
   "cell_type": "code",
   "execution_count": 55,
   "metadata": {},
   "outputs": [
    {
     "data": {
      "text/html": [
       "\n",
       "<style>\n",
       "    /* Turns off some styling */\n",
       "    progress {\n",
       "        /* gets rid of default border in Firefox and Opera. */\n",
       "        border: none;\n",
       "        /* Needs to be in here for Safari polyfill so background images work as expected. */\n",
       "        background-size: auto;\n",
       "    }\n",
       "    progress:not([value]), progress:not([value])::-webkit-progress-bar {\n",
       "        background: repeating-linear-gradient(45deg, #7e7e7e, #7e7e7e 10px, #5c5c5c 10px, #5c5c5c 20px);\n",
       "    }\n",
       "    .progress-bar-interrupted, .progress-bar-interrupted::-webkit-progress-bar {\n",
       "        background: #F44336;\n",
       "    }\n",
       "</style>\n"
      ],
      "text/plain": [
       "<IPython.core.display.HTML object>"
      ]
     },
     "metadata": {},
     "output_type": "display_data"
    },
    {
     "data": {
      "text/html": [
       "<table border=\"1\" class=\"dataframe\">\n",
       "  <thead>\n",
       "    <tr style=\"text-align: left;\">\n",
       "      <th>epoch</th>\n",
       "      <th>train_loss</th>\n",
       "      <th>valid_loss</th>\n",
       "      <th>accuracy</th>\n",
       "      <th>time</th>\n",
       "    </tr>\n",
       "  </thead>\n",
       "  <tbody>\n",
       "    <tr>\n",
       "      <td>0</td>\n",
       "      <td>0.503388</td>\n",
       "      <td>0.472819</td>\n",
       "      <td>0.586592</td>\n",
       "      <td>00:06</td>\n",
       "    </tr>\n",
       "    <tr>\n",
       "      <td>1</td>\n",
       "      <td>0.471411</td>\n",
       "      <td>0.456984</td>\n",
       "      <td>0.586592</td>\n",
       "      <td>00:08</td>\n",
       "    </tr>\n",
       "    <tr>\n",
       "      <td>2</td>\n",
       "      <td>0.451406</td>\n",
       "      <td>0.457511</td>\n",
       "      <td>0.586592</td>\n",
       "      <td>00:07</td>\n",
       "    </tr>\n",
       "    <tr>\n",
       "      <td>3</td>\n",
       "      <td>0.427811</td>\n",
       "      <td>0.447177</td>\n",
       "      <td>0.586592</td>\n",
       "      <td>00:09</td>\n",
       "    </tr>\n",
       "    <tr>\n",
       "      <td>4</td>\n",
       "      <td>0.421740</td>\n",
       "      <td>0.445464</td>\n",
       "      <td>0.586592</td>\n",
       "      <td>00:09</td>\n",
       "    </tr>\n",
       "    <tr>\n",
       "      <td>5</td>\n",
       "      <td>0.420789</td>\n",
       "      <td>0.445401</td>\n",
       "      <td>0.586592</td>\n",
       "      <td>00:11</td>\n",
       "    </tr>\n",
       "    <tr>\n",
       "      <td>6</td>\n",
       "      <td>0.407935</td>\n",
       "      <td>0.450827</td>\n",
       "      <td>0.586592</td>\n",
       "      <td>00:12</td>\n",
       "    </tr>\n",
       "    <tr>\n",
       "      <td>7</td>\n",
       "      <td>0.402462</td>\n",
       "      <td>0.455859</td>\n",
       "      <td>0.586592</td>\n",
       "      <td>00:15</td>\n",
       "    </tr>\n",
       "    <tr>\n",
       "      <td>8</td>\n",
       "      <td>0.394417</td>\n",
       "      <td>0.446873</td>\n",
       "      <td>0.586592</td>\n",
       "      <td>00:14</td>\n",
       "    </tr>\n",
       "    <tr>\n",
       "      <td>9</td>\n",
       "      <td>0.398640</td>\n",
       "      <td>0.450556</td>\n",
       "      <td>0.586592</td>\n",
       "      <td>00:13</td>\n",
       "    </tr>\n",
       "  </tbody>\n",
       "</table>"
      ],
      "text/plain": [
       "<IPython.core.display.HTML object>"
      ]
     },
     "metadata": {},
     "output_type": "display_data"
    },
    {
     "name": "stderr",
     "output_type": "stream",
     "text": [
      "2025/06/28 22:44:12 WARNING mlflow.models.model: `artifact_path` is deprecated. Please use `name` instead.\n",
      "2025/06/28 22:44:12 WARNING mlflow.models.signature: Failed to infer the model signature from the input example. Reason: RuntimeError('Tensor for argument input is on cpu but expected on mps'). To see the full traceback, set the logging level to DEBUG via `logging.getLogger(\"mlflow\").setLevel(logging.DEBUG)`.\n",
      "2025/06/28 22:44:19 WARNING mlflow.models.model: Failed to validate serving input example {\n",
      "  \"inputs\": [\n",
      "    [\n",
      "      0.2042083889245987,\n",
      "      -1.6300134658813477,\n",
      "      -1.229819655418396,\n",
      "      0.03173350170254707,\n",
      "      0.3540950417518616,\n",
      "      -0.7485231161117554,\n",
      "      -0.057413920760154724,\n",
      "      -1.3310774564743042,\n",
      "      -0.7293691635131836,\n",
      "      -0.49474436044692993,\n",
      "      -0.08568935096263885,\n",
      "      2.034656047821045,\n",
      "      -1.0346598625183105,\n",
      "      0.5188901424407959,\n",
      "      0.8094419240951538,\n",
      "      -1.4632961750030518,\n",
      "      -1.2895830869674683,\n",
      "      -1.019429087638855\n",
      "    ]\n",
      "  ]\n",
      "}. Alternatively, you can avoid passing input example and pass model signature instead when logging the model. To ensure the input example is valid prior to serving, please try calling `mlflow.models.validate_serving_input` on the model uri and serving input example. A serving input example can be generated from model input example using `mlflow.models.convert_input_example_to_serving_input` function.\n",
      "Got error: mat1 and mat2 must have the same dtype, but got Double and Float\n"
     ]
    }
   ],
   "source": [
    "import mlflow\n",
    "import mlflow.pytorch\n",
    "from datetime import datetime\n",
    "from torch.utils.tensorboard import SummaryWriter\n",
    "mlflow.set_experiment(\"experiment_one\")\n",
    "run_name = f\"Titanic_Torch_Run_{datetime.now().strftime('%Y%m%d_%H%M%S')}\"\n",
    "\n",
    "\n",
    "from fastai.callback.core import Callback\n",
    "\n",
    "\n",
    "class MLFlowCallback(Callback):\n",
    "    def __init__(self, writer=None):\n",
    "        self.writer = writer\n",
    "\n",
    "    def after_batch(self):\n",
    "        # Epoch index\n",
    "        epoch = self.epoch\n",
    "\n",
    "        # Log weights, biases, and activations to TensorBoard and MLflow\n",
    "        if hasattr(self.learn, 'model'):\n",
    "            for name, param in self.learn.model.named_parameters():\n",
    "                if param.requires_grad:\n",
    "                    # Log weights\n",
    "                    if self.writer:\n",
    "                        self.writer.add_histogram(f\"Weights/{name}\", param.data.cpu().numpy(), epoch)\n",
    "                   \n",
    "\n",
    "        # Log activations (outputs of each layer) - only for the last batch in this epoch\n",
    "        if hasattr(self.learn, 'model') and hasattr(self, 'last_input'):\n",
    "            x = self.last_input\n",
    "            activations = {}\n",
    "            def save_activation(name):\n",
    "                def hook(module, input, output):\n",
    "                    activations[name] = output.detach().cpu()\n",
    "                return hook\n",
    "\n",
    "            handles = []\n",
    "            for name, module in self.learn.model.named_modules():\n",
    "                if isinstance(module, (nn.Linear, nn.ReLU, nn.BatchNorm1d, nn.Dropout)):\n",
    "                    handles.append(module.register_forward_hook(save_activation(name)))\n",
    "            with torch.no_grad():\n",
    "                self.learn.model(x)\n",
    "            for name, act in activations.items():\n",
    "                if self.writer:\n",
    "                    self.writer.add_histogram(f\"Activations/{name}\", act.numpy(), epoch)\n",
    "                mlflow.log_artifact(\n",
    "                    self._save_tensor_to_tempfile(act, f\"{name}_activations_epoch{epoch}.pt\")\n",
    "                )\n",
    "            for h in handles:\n",
    "                h.remove()\n",
    "\n",
    "        # valid_loss and metrics are in recorder.values\n",
    "        if hasattr(self.learn.recorder, 'values') and self.learn.recorder.values:\n",
    "            last_values = self.learn.recorder.values[-1]\n",
    "            valid_loss = last_values[0]\n",
    "            accuracy = last_values[1] if len(last_values) > 1 else None\n",
    "\n",
    "            mlflow.log_metric(\"valid_loss\", valid_loss, step=epoch)\n",
    "            if accuracy is not None:\n",
    "                mlflow.log_metric(\"accuracy\", accuracy, step=epoch)\n",
    "\n",
    "            if self.writer:\n",
    "                self.writer.add_scalar(\"Loss/valid\", valid_loss, epoch)\n",
    "                if accuracy is not None:\n",
    "                    self.writer.add_scalar(\"Accuracy/valid\", accuracy, epoch)\n",
    "\n",
    "        # Optionally log average training loss per epoch (approximate)\n",
    "        if hasattr(self.learn.recorder, 'losses') and self.learn.recorder.losses:\n",
    "            # Average over batches for this epoch\n",
    "            # fastai doesn't expose clean epoch batch boundaries, so be cautious\n",
    "            all_train_losses = [l.item() for l in self.learn.recorder.losses]\n",
    "            avg_train_loss = sum(all_train_losses) / len(all_train_losses)\n",
    "\n",
    "            mlflow.log_metric(\"train_loss\", avg_train_loss, step=epoch)\n",
    "            if self.writer:\n",
    "                self.writer.add_scalar(\"Loss/train\", avg_train_loss, epoch)\n",
    "\n",
    "\n",
    "\n",
    "with mlflow.start_run(run_name=run_name):\n",
    "    mlflow.log_param(\"batch_size\", 10)\n",
    "    mlflow.log_param(\"epochs\", 10)\n",
    "    mlflow.log_param(\"learning_rate\", 1e-3)\n",
    "    mlflow.log_param(\"model_architecture\", model)\n",
    "    writer = SummaryWriter(log_dir=f\"tensorboard_logs/{run_name}\")\n",
    "    \n",
    "    learn = Learner(\n",
    "        dls, \n",
    "        model, \n",
    "        loss_func=nn.BCEWithLogitsLoss(),\n",
    "        metrics=accuracy,\n",
    "        cbs=[MLFlowCallback(writer)]\n",
    "    )\n",
    "    learn.fit(10, lr=1e-3)\n",
    "    mlflow.log_artifact(f\"tensorboard_logs/{run_name}\")\n",
    "\n",
    "\n",
    "   \n",
    "\n",
    "    input_example = np.random.randn(1, 18).astype(np.float32)\n",
    "    mlflow.pytorch.log_model(model, \"model\", input_example=input_example)\n",
    "\n",
    "\n",
    "\n"
   ]
  },
  {
   "cell_type": "markdown",
   "metadata": {},
   "source": [
    "## EVALUATION\n"
   ]
  },
  {
   "cell_type": "markdown",
   "metadata": {},
   "source": [
    "### SCORES\n"
   ]
  },
  {
   "cell_type": "markdown",
   "metadata": {},
   "source": [
    "#### METRICS"
   ]
  },
  {
   "cell_type": "code",
   "execution_count": 56,
   "metadata": {},
   "outputs": [
    {
     "data": {
      "text/html": [
       "\n",
       "<style>\n",
       "    /* Turns off some styling */\n",
       "    progress {\n",
       "        /* gets rid of default border in Firefox and Opera. */\n",
       "        border: none;\n",
       "        /* Needs to be in here for Safari polyfill so background images work as expected. */\n",
       "        background-size: auto;\n",
       "    }\n",
       "    progress:not([value]), progress:not([value])::-webkit-progress-bar {\n",
       "        background: repeating-linear-gradient(45deg, #7e7e7e, #7e7e7e 10px, #5c5c5c 10px, #5c5c5c 20px);\n",
       "    }\n",
       "    .progress-bar-interrupted, .progress-bar-interrupted::-webkit-progress-bar {\n",
       "        background: #F44336;\n",
       "    }\n",
       "</style>\n"
      ],
      "text/plain": [
       "<IPython.core.display.HTML object>"
      ]
     },
     "metadata": {},
     "output_type": "display_data"
    },
    {
     "data": {
      "text/html": [],
      "text/plain": [
       "<IPython.core.display.HTML object>"
      ]
     },
     "metadata": {},
     "output_type": "display_data"
    }
   ],
   "source": [
    " # Convert torch tensors to numpy arrays for sklearn\n",
    "\n",
    "\n",
    "from sklearn.metrics import accuracy_score, roc_auc_score\n",
    " \n",
    "preds, targets = learn.get_preds(dl=valid_dl)\n",
    "probs = preds.sigmoid()\n",
    "pred_classes = (probs > 0.5).int()\n",
    "\n",
    "\n",
    "y_true = targets.numpy().astype(int).flatten()\n",
    "y_pred = pred_classes.numpy().flatten()\n",
    "\n",
    "val_acc = accuracy_score(y_true, y_pred)\n",
    "val_auc = roc_auc_score(y_true, probs.numpy().flatten())\n",
    "\n",
    "mlflow.log_metric(\"val_accuracy\", val_acc)\n",
    "mlflow.log_metric(\"val_auc\", val_auc)\n",
    "# Register the trained model in MLflow with input_example for signature inference"
   ]
  },
  {
   "cell_type": "code",
   "execution_count": 58,
   "metadata": {},
   "outputs": [
    {
     "data": {
      "image/png": "[encoded data removed]",
      "text/plain": [
       "<Figure size 600x400 with 1 Axes>"
      ]
     },
     "metadata": {},
     "output_type": "display_data"
    },
    {
     "ename": "SettingWithCopyError",
     "evalue": "\nA value is trying to be set on a copy of a slice from a DataFrame.\nTry using .loc[row_indexer,col_indexer] = value instead\n\nSee the caveats in the documentation: https://pandas.pydata.org/pandas-docs/stable/user_guide/indexing.html#returning-a-view-versus-a-copy",
     "output_type": "error",
     "traceback": [
      "\u001b[0;31m---------------------------------------------------------------------------\u001b[0m",
      "\u001b[0;31mSettingWithCopyError\u001b[0m                      Traceback (most recent call last)",
      "\u001b[0;32m/var/folders/xs/kqvv4_bx2dx9hby123kgmhsm0000gn/T/ipykernel_8302/839789280.py\u001b[0m in \u001b[0;36m?\u001b[0;34m()\u001b[0m\n\u001b[1;32m     12\u001b[0m \u001b[0;34m\u001b[0m\u001b[0m\n\u001b[1;32m     13\u001b[0m \u001b[0;31m# --- Feature Engineering Suggestion for Passenger Class ---\u001b[0m\u001b[0;34m\u001b[0m\u001b[0;34m\u001b[0m\u001b[0m\n\u001b[1;32m     14\u001b[0m \u001b[0;34m\u001b[0m\u001b[0m\n\u001b[1;32m     15\u001b[0m \u001b[0;31m# 1. Create a new feature: IsFirstClass (1 if Pclass==1 else 0)\u001b[0m\u001b[0;34m\u001b[0m\u001b[0;34m\u001b[0m\u001b[0m\n\u001b[0;32m---> 16\u001b[0;31m \u001b[0mX\u001b[0m\u001b[0;34m[\u001b[0m\u001b[0;34m'IsFirstClass'\u001b[0m\u001b[0;34m]\u001b[0m \u001b[0;34m=\u001b[0m \u001b[0;34m(\u001b[0m\u001b[0mX\u001b[0m\u001b[0;34m[\u001b[0m\u001b[0;34m'Pclass'\u001b[0m\u001b[0;34m]\u001b[0m \u001b[0;34m==\u001b[0m \u001b[0;36m1\u001b[0m\u001b[0;34m)\u001b[0m\u001b[0;34m.\u001b[0m\u001b[0mastype\u001b[0m\u001b[0;34m(\u001b[0m\u001b[0mint\u001b[0m\u001b[0;34m)\u001b[0m\u001b[0;34m\u001b[0m\u001b[0;34m\u001b[0m\u001b[0m\n\u001b[0m\u001b[1;32m     17\u001b[0m \u001b[0;34m\u001b[0m\u001b[0m\n\u001b[1;32m     18\u001b[0m \u001b[0;31m# 2. Create a new feature: IsThirdClass (1 if Pclass==3 else 0)\u001b[0m\u001b[0;34m\u001b[0m\u001b[0;34m\u001b[0m\u001b[0m\n\u001b[1;32m     19\u001b[0m \u001b[0mX\u001b[0m\u001b[0;34m[\u001b[0m\u001b[0;34m'IsThirdClass'\u001b[0m\u001b[0;34m]\u001b[0m \u001b[0;34m=\u001b[0m \u001b[0;34m(\u001b[0m\u001b[0mX\u001b[0m\u001b[0;34m[\u001b[0m\u001b[0;34m'Pclass'\u001b[0m\u001b[0;34m]\u001b[0m \u001b[0;34m==\u001b[0m \u001b[0;36m3\u001b[0m\u001b[0;34m)\u001b[0m\u001b[0;34m.\u001b[0m\u001b[0mastype\u001b[0m\u001b[0;34m(\u001b[0m\u001b[0mint\u001b[0m\u001b[0;34m)\u001b[0m\u001b[0;34m\u001b[0m\u001b[0;34m\u001b[0m\u001b[0m\n",
      "\u001b[0;32m~/miniconda3/envs/py3.10/lib/python3.10/site-packages/pandas/core/frame.py\u001b[0m in \u001b[0;36m?\u001b[0;34m(self, key, value)\u001b[0m\n\u001b[1;32m   4312\u001b[0m             \u001b[0;31m# Column to set is duplicated\u001b[0m\u001b[0;34m\u001b[0m\u001b[0;34m\u001b[0m\u001b[0m\n\u001b[1;32m   4313\u001b[0m             \u001b[0mself\u001b[0m\u001b[0;34m.\u001b[0m\u001b[0m_setitem_array\u001b[0m\u001b[0;34m(\u001b[0m\u001b[0;34m[\u001b[0m\u001b[0mkey\u001b[0m\u001b[0;34m]\u001b[0m\u001b[0;34m,\u001b[0m \u001b[0mvalue\u001b[0m\u001b[0;34m)\u001b[0m\u001b[0;34m\u001b[0m\u001b[0;34m\u001b[0m\u001b[0m\n\u001b[1;32m   4314\u001b[0m         \u001b[0;32melse\u001b[0m\u001b[0;34m:\u001b[0m\u001b[0;34m\u001b[0m\u001b[0;34m\u001b[0m\u001b[0m\n\u001b[1;32m   4315\u001b[0m             \u001b[0;31m# set column\u001b[0m\u001b[0;34m\u001b[0m\u001b[0;34m\u001b[0m\u001b[0m\n\u001b[0;32m-> 4316\u001b[0;31m             \u001b[0mself\u001b[0m\u001b[0;34m.\u001b[0m\u001b[0m_set_item\u001b[0m\u001b[0;34m(\u001b[0m\u001b[0mkey\u001b[0m\u001b[0;34m,\u001b[0m \u001b[0mvalue\u001b[0m\u001b[0;34m)\u001b[0m\u001b[0;34m\u001b[0m\u001b[0;34m\u001b[0m\u001b[0m\n\u001b[0m",
      "\u001b[0;32m~/miniconda3/envs/py3.10/lib/python3.10/site-packages/pandas/core/frame.py\u001b[0m in \u001b[0;36m?\u001b[0;34m(self, key, value)\u001b[0m\n\u001b[1;32m   4539\u001b[0m                 \u001b[0;32mif\u001b[0m \u001b[0misinstance\u001b[0m\u001b[0;34m(\u001b[0m\u001b[0mexisting_piece\u001b[0m\u001b[0;34m,\u001b[0m \u001b[0mDataFrame\u001b[0m\u001b[0;34m)\u001b[0m\u001b[0;34m:\u001b[0m\u001b[0;34m\u001b[0m\u001b[0;34m\u001b[0m\u001b[0m\n\u001b[1;32m   4540\u001b[0m                     \u001b[0mvalue\u001b[0m \u001b[0;34m=\u001b[0m \u001b[0mnp\u001b[0m\u001b[0;34m.\u001b[0m\u001b[0mtile\u001b[0m\u001b[0;34m(\u001b[0m\u001b[0mvalue\u001b[0m\u001b[0;34m,\u001b[0m \u001b[0;34m(\u001b[0m\u001b[0mlen\u001b[0m\u001b[0;34m(\u001b[0m\u001b[0mexisting_piece\u001b[0m\u001b[0;34m.\u001b[0m\u001b[0mcolumns\u001b[0m\u001b[0;34m)\u001b[0m\u001b[0;34m,\u001b[0m \u001b[0;36m1\u001b[0m\u001b[0;34m)\u001b[0m\u001b[0;34m)\u001b[0m\u001b[0;34m.\u001b[0m\u001b[0mT\u001b[0m\u001b[0;34m\u001b[0m\u001b[0;34m\u001b[0m\u001b[0m\n\u001b[1;32m   4541\u001b[0m                     \u001b[0mrefs\u001b[0m \u001b[0;34m=\u001b[0m \u001b[0;32mNone\u001b[0m\u001b[0;34m\u001b[0m\u001b[0;34m\u001b[0m\u001b[0m\n\u001b[1;32m   4542\u001b[0m \u001b[0;34m\u001b[0m\u001b[0m\n\u001b[0;32m-> 4543\u001b[0;31m         \u001b[0mself\u001b[0m\u001b[0;34m.\u001b[0m\u001b[0m_set_item_mgr\u001b[0m\u001b[0;34m(\u001b[0m\u001b[0mkey\u001b[0m\u001b[0;34m,\u001b[0m \u001b[0mvalue\u001b[0m\u001b[0;34m,\u001b[0m \u001b[0mrefs\u001b[0m\u001b[0;34m)\u001b[0m\u001b[0;34m\u001b[0m\u001b[0;34m\u001b[0m\u001b[0m\n\u001b[0m",
      "\u001b[0;32m~/miniconda3/envs/py3.10/lib/python3.10/site-packages/pandas/core/frame.py\u001b[0m in \u001b[0;36m?\u001b[0;34m(self, key, value, refs)\u001b[0m\n\u001b[1;32m   4497\u001b[0m         \u001b[0;31m# check if we are modifying a copy\u001b[0m\u001b[0;34m\u001b[0m\u001b[0;34m\u001b[0m\u001b[0m\n\u001b[1;32m   4498\u001b[0m         \u001b[0;31m# try to set first as we want an invalid\u001b[0m\u001b[0;34m\u001b[0m\u001b[0;34m\u001b[0m\u001b[0m\n\u001b[1;32m   4499\u001b[0m         \u001b[0;31m# value exception to occur first\u001b[0m\u001b[0;34m\u001b[0m\u001b[0;34m\u001b[0m\u001b[0m\n\u001b[1;32m   4500\u001b[0m         \u001b[0;32mif\u001b[0m \u001b[0mlen\u001b[0m\u001b[0;34m(\u001b[0m\u001b[0mself\u001b[0m\u001b[0;34m)\u001b[0m\u001b[0;34m:\u001b[0m\u001b[0;34m\u001b[0m\u001b[0;34m\u001b[0m\u001b[0m\n\u001b[0;32m-> 4501\u001b[0;31m             \u001b[0mself\u001b[0m\u001b[0;34m.\u001b[0m\u001b[0m_check_setitem_copy\u001b[0m\u001b[0;34m(\u001b[0m\u001b[0;34m)\u001b[0m\u001b[0;34m\u001b[0m\u001b[0;34m\u001b[0m\u001b[0m\n\u001b[0m",
      "\u001b[0;32m~/miniconda3/envs/py3.10/lib/python3.10/site-packages/pandas/core/generic.py\u001b[0m in \u001b[0;36m?\u001b[0;34m(self, t, force)\u001b[0m\n\u001b[1;32m   4488\u001b[0m                 \u001b[0;34m\"indexing.html#returning-a-view-versus-a-copy\"\u001b[0m\u001b[0;34m\u001b[0m\u001b[0;34m\u001b[0m\u001b[0m\n\u001b[1;32m   4489\u001b[0m             )\n\u001b[1;32m   4490\u001b[0m \u001b[0;34m\u001b[0m\u001b[0m\n\u001b[1;32m   4491\u001b[0m         \u001b[0;32mif\u001b[0m \u001b[0mvalue\u001b[0m \u001b[0;34m==\u001b[0m \u001b[0;34m\"raise\"\u001b[0m\u001b[0;34m:\u001b[0m\u001b[0;34m\u001b[0m\u001b[0;34m\u001b[0m\u001b[0m\n\u001b[0;32m-> 4492\u001b[0;31m             \u001b[0;32mraise\u001b[0m \u001b[0mSettingWithCopyError\u001b[0m\u001b[0;34m(\u001b[0m\u001b[0mt\u001b[0m\u001b[0;34m)\u001b[0m\u001b[0;34m\u001b[0m\u001b[0;34m\u001b[0m\u001b[0m\n\u001b[0m\u001b[1;32m   4493\u001b[0m         \u001b[0;32mif\u001b[0m \u001b[0mvalue\u001b[0m \u001b[0;34m==\u001b[0m \u001b[0;34m\"warn\"\u001b[0m\u001b[0;34m:\u001b[0m\u001b[0;34m\u001b[0m\u001b[0;34m\u001b[0m\u001b[0m\n\u001b[1;32m   4494\u001b[0m             \u001b[0mwarnings\u001b[0m\u001b[0;34m.\u001b[0m\u001b[0mwarn\u001b[0m\u001b[0;34m(\u001b[0m\u001b[0mt\u001b[0m\u001b[0;34m,\u001b[0m \u001b[0mSettingWithCopyWarning\u001b[0m\u001b[0;34m,\u001b[0m \u001b[0mstacklevel\u001b[0m\u001b[0;34m=\u001b[0m\u001b[0mfind_stack_level\u001b[0m\u001b[0;34m(\u001b[0m\u001b[0;34m)\u001b[0m\u001b[0;34m)\u001b[0m\u001b[0;34m\u001b[0m\u001b[0;34m\u001b[0m\u001b[0m\n",
      "\u001b[0;31mSettingWithCopyError\u001b[0m: \nA value is trying to be set on a copy of a slice from a DataFrame.\nTry using .loc[row_indexer,col_indexer] = value instead\n\nSee the caveats in the documentation: https://pandas.pydata.org/pandas-docs/stable/user_guide/indexing.html#returning-a-view-versus-a-copy"
     ]
    }
   ],
   "source": [
    "import matplotlib.pyplot as plt\n",
    "import seaborn as sns\n",
    "\n",
    "# Plot Passenger Class vs Survived\n",
    "plt.figure(figsize=(6,4))\n",
    "sns.countplot(x='Pclass', hue='Survived', data=df)\n",
    "plt.title('Passenger Class vs Survived')\n",
    "plt.xlabel('Passenger Class')\n",
    "plt.ylabel('Count')\n",
    "plt.legend(title='Survived', labels=['No', 'Yes'])\n",
    "plt.show()\n",
    "\n",
    "# --- Feature Engineering Suggestion for Passenger Class ---\n",
    "\n",
    "# 1. Create a new feature: IsFirstClass (1 if Pclass==1 else 0)\n",
    "X['IsFirstClass'] = (X['Pclass'] == 1).astype(int)\n",
    "\n",
    "# 2. Create a new feature: IsThirdClass (1 if Pclass==3 else 0)\n",
    "X['IsThirdClass'] = (X['Pclass'] == 3).astype(int)\n",
    "import io\n",
    "import mlflow\n",
    "\n",
    "# Save the plot to a buffer\n",
    "buf = io.BytesIO()\n",
    "plt.savefig(buf, format='png')\n",
    "buf.seek(0)\n",
    "\n",
    "# Log the plot as an artifact in mlflow\n",
    "mlflow.set_experiment(\"experiment_one\")\n",
    "with mlflow.start_run():\n",
    "    mlflow.log_figure(plt.gcf(), \"passenger_class_vs_survived.png\")\n",
    "\n",
    "buf.close()# Get predictions and targets on validation set\n",
    "preds, targets = learn.get_preds(dl=train_dl)\n",
    "\n",
    "# preds are raw logits, convert to probabilities\n",
    "probs = preds.sigmoid()\n",
    "\n",
    "# Convert probabilities to binary classes (0 or 1)\n",
    "pred_classes = (probs > 0.5).int()\n",
    "from sklearn.metrics import accuracy_score\n",
    "\n",
    "# Convert torch tensors to numpy arrays for sklearn\n",
    "y_true = targets.numpy().astype(int).flatten()\n",
    "y_pred = pred_classes.numpy().flatten()\n",
    "\n",
    "acc = accuracy_score(y_true, y_pred)\n",
    "print(\"Validation Accuracy:\", acc)\n",
    "\n",
    "\n",
    "\n"
   ]
  },
  {
   "cell_type": "markdown",
   "metadata": {},
   "source": [
    "#### Precision recall curve"
   ]
  },
  {
   "cell_type": "code",
   "execution_count": 60,
   "metadata": {},
   "outputs": [
    {
     "data": {
      "text/html": [
       "\n",
       "<style>\n",
       "    /* Turns off some styling */\n",
       "    progress {\n",
       "        /* gets rid of default border in Firefox and Opera. */\n",
       "        border: none;\n",
       "        /* Needs to be in here for Safari polyfill so background images work as expected. */\n",
       "        background-size: auto;\n",
       "    }\n",
       "    progress:not([value]), progress:not([value])::-webkit-progress-bar {\n",
       "        background: repeating-linear-gradient(45deg, #7e7e7e, #7e7e7e 10px, #5c5c5c 10px, #5c5c5c 20px);\n",
       "    }\n",
       "    .progress-bar-interrupted, .progress-bar-interrupted::-webkit-progress-bar {\n",
       "        background: #F44336;\n",
       "    }\n",
       "</style>\n"
      ],
      "text/plain": [
       "<IPython.core.display.HTML object>"
      ]
     },
     "metadata": {},
     "output_type": "display_data"
    },
    {
     "data": {
      "text/html": [],
      "text/plain": [
       "<IPython.core.display.HTML object>"
      ]
     },
     "metadata": {},
     "output_type": "display_data"
    },
    {
     "name": "stdout",
     "output_type": "stream",
     "text": [
      "Validation Accuracy: 0.8398876404494382\n",
      "Best threshold by Youden's J statistic: 0.4387\n",
      "At this threshold: TPR=0.7201, FPR=0.0788\n"
     ]
    },
    {
     "data": {
      "image/png": "[encoded data removed]",
      "text/plain": [
       "<Figure size 640x480 with 1 Axes>"
      ]
     },
     "metadata": {},
     "output_type": "display_data"
    },
    {
     "data": {
      "image/png": "[encoded data removed]",
      "text/plain": [
       "<Figure size 640x480 with 1 Axes>"
      ]
     },
     "metadata": {},
     "output_type": "display_data"
    },
    {
     "name": "stdout",
     "output_type": "stream",
     "text": [
      "TensorBoard is not supported on Python 3.13 due to missing 'imghdr'. Use Python 3.12 or lower for TensorBoard support.\n"
     ]
    }
   ],
   "source": [
    "# Get predictions and targets on validation set\n",
    "preds, targets = learn.get_preds(dl=train_dl)\n",
    "\n",
    "# preds are raw logits, convert to probabilities\n",
    "probs = preds.sigmoid()\n",
    "\n",
    "# Convert probabilities to binary classes (0 or 1)\n",
    "pred_classes = (probs > 0.5).int()\n",
    "from sklearn.metrics import accuracy_score\n",
    "\n",
    "# Convert torch tensors to numpy arrays for sklearn\n",
    "y_true = targets.numpy().astype(int).flatten()\n",
    "y_pred = pred_classes.numpy().flatten()\n",
    "\n",
    "acc = accuracy_score(y_true, y_pred)\n",
    "print(\"Validation Accuracy:\", acc)\n",
    "from sklearn.metrics import roc_curve, auc\n",
    "import matplotlib.pyplot as plt\n",
    "# Compute ROC curve and ROC area\n",
    "fpr, tpr, thresholds = roc_curve(y_true, probs.numpy().flatten())\n",
    "roc_auc = auc(fpr, tpr)\n",
    "\n",
    "\n",
    "# fpr stands for \"False Positive Rate\" and tpr stands for \"True Positive Rate\".\n",
    "# \n",
    "# - False Positive Rate (fpr): This is the proportion of actual negatives that are incorrectly classified as positives. \n",
    "#   It is calculated as: fpr = FP / (FP + TN), where FP is the number of false positives and TN is the number of true negatives.\n",
    "#\n",
    "# - True Positive Rate (tpr): This is also known as \"Recall\" or \"Sensitivity\". It is the proportion of actual positives that are correctly identified.\n",
    "#   It is calculated as: tpr = TP / (TP + FN), where TP is the number of true positives and FN is the number of false negatives.\n",
    "#\n",
    "# In the context of the ROC curve, fpr and tpr are computed at various threshold settings to evaluate the performance of a binary classifier.\n",
    "# The \"best\" threshold on the ROC curve depends on your specific goal (e.g., maximizing accuracy, recall, or balancing both).\n",
    "# A common approach is to choose the threshold that gives the best balance between true positive rate (tpr) and false positive rate (fpr).\n",
    "# One way to do this is to maximize the Youden's J statistic: J = tpr - fpr\n",
    "\n",
    "# Find the threshold that maximizes tpr - fpr\n",
    "j_scores = tpr - fpr\n",
    "best_idx = j_scores.argmax()\n",
    "best_threshold = thresholds[best_idx]\n",
    "print(f\"Best threshold by Youden's J statistic: {best_threshold:.4f}\")\n",
    "print(f\"At this threshold: TPR={tpr[best_idx]:.4f}, FPR={fpr[best_idx]:.4f}\")\n",
    "\n",
    "# Optionally, plot the chosen threshold on the ROC curve\n",
    "plt.figure()\n",
    "plt.plot(fpr, tpr, color='darkorange', lw=2, label='ROC curve (AUC = %0.2f)' % roc_auc)\n",
    "plt.scatter(fpr[best_idx], tpr[best_idx], color='red', label=f'Best threshold ({best_threshold:.2f})')\n",
    "plt.plot([0, 1], [0, 1], color='navy', lw=2, linestyle='--')\n",
    "plt.xlim([0.0, 1.0])\n",
    "plt.ylim([0.0, 1.05])\n",
    "plt.xlabel('False Positive Rate')\n",
    "plt.ylabel('True Positive Rate')\n",
    "plt.title('Receiver Operating Characteristic - Validation Set')\n",
    "plt.legend(loc=\"lower right\")\n",
    "plt.show()\n",
    "from sklearn.metrics import precision_recall_curve, average_precision_score\n",
    "\n",
    "# Compute precision-recall curve and average precision\n",
    "precision, recall, pr_thresholds = precision_recall_curve(y_true, probs.numpy().flatten())\n",
    "avg_precision = average_precision_score(y_true, probs.numpy().flatten())\n",
    "\n",
    "# Plot the Precision-Recall curve\n",
    "plt.figure()\n",
    "plt.plot(recall, precision, color='blue', lw=2, label=f'PR curve (AP = {avg_precision:.2f})')\n",
    "plt.xlabel('Recall')\n",
    "plt.ylabel('Precision')\n",
    "plt.title('Precision-Recall Curve - Validation Set')\n",
    "plt.legend(loc=\"lower left\")\n",
    "plt.show()\n",
    "\n",
    "# TensorBoard failed to launch due to a missing 'imghdr' module in Python 3.13.\n",
    "# This is a known issue because 'imghdr' was removed in Python 3.13.\n",
    "# \n",
    "# Workarounds:\n",
    "# 1. Downgrade to Python 3.12 or lower, where 'imghdr' is available.\n",
    "# 2. Wait for TensorBoard to release a version compatible with Python 3.13.\n",
    "# 3. If you only need scalar plots (not images), you can use matplotlib or other logging tools.\n",
    "\n",
    "# Example: Visualize training/validation loss with matplotlib (as a workaround)\n",
    "# plt.plot(train_losses, label='Train Loss')\n",
    "# plt.plot(val_losses, label='Validation Loss')\n",
    "# plt.xlabel('Epoch')\n",
    "# plt.ylabel('Loss')\n",
    "# plt.legend()\n",
    "# plt.show()\n",
    "\n",
    "# If you still want to try launching TensorBoard (and have downgraded Python), use:\n",
    "# %load_ext tensorboard\n",
    "# %tensorboard --logdir runs\n",
    "\n",
    "# For now, TensorBoard is not supported on Python 3.13 due to the missing 'imghdr' module.\n",
    "print(\"TensorBoard is not supported on Python 3.13 due to missing 'imghdr'. Use Python 3.12 or lower for TensorBoard support.\")\n",
    "\n"
   ]
  }
 ],
 "metadata": {
  "kernelspec": {
   "display_name": "py3.10",
   "language": "python",
   "name": "python3"
  },
  "language_info": {
   "codemirror_mode": {
    "name": "ipython",
    "version": 3
   },
   "file_extension": ".py",
   "mimetype": "text/x-python",
   "name": "python",
   "nbconvert_exporter": "python",
   "pygments_lexer": "ipython3",
   "version": "3.10.16"
  }
 },
 "nbformat": 4,
 "nbformat_minor": 2
}
